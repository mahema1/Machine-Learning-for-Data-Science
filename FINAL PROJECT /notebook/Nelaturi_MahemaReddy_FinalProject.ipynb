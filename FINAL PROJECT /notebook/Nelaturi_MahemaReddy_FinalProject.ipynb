{
 "cells": [
  {
   "cell_type": "markdown",
   "id": "ef98fdd4",
   "metadata": {},
   "source": [
    "# Nelaturi_MahemaReddy_FinalProject"
   ]
  },
  {
   "cell_type": "markdown",
   "id": "74b8e408",
   "metadata": {},
   "source": [
    "##### Name: Mahema Reddy Nelaturi \n",
    "##### Github username: mahemareddy\n",
    "##### USC ID: 2814429305"
   ]
  },
  {
   "cell_type": "markdown",
   "id": "fce58751",
   "metadata": {},
   "source": [
    "## 1. Text Classification"
   ]
  },
  {
   "cell_type": "code",
   "execution_count": 1,
   "id": "b922452c",
   "metadata": {},
   "outputs": [],
   "source": [
    "import os\n",
    "import re\n",
    "import numpy as np\n",
    "import pandas as pd\n",
    "import matplotlib.pyplot as plt\n",
    "import glob\n",
    "\n",
    "from tensorflow.keras.preprocessing.text import Tokenizer\n",
    "from tensorflow.keras.preprocessing.sequence import pad_sequences\n",
    "from tensorflow.keras.models import Sequential\n",
    "from tensorflow.keras.layers import Dense, Embedding, Flatten, Dropout\n",
    "from sklearn.model_selection import train_test_split\n",
    "\n",
    "from collections import Counter\n",
    "from keras.models import Sequential\n",
    "from keras.optimizers import Adam\n",
    "from tensorflow.keras.layers import Conv1D, MaxPooling1D\n",
    "from tensorflow.keras.layers import LSTM"
   ]
  },
  {
   "cell_type": "markdown",
   "id": "0dd288e7",
   "metadata": {},
   "source": [
    "### (a) In this problem, we are trying to build a classifier to analyze the sentiment of reviews. You are provided with text data in two folders: one folder involves positive reviews, and one folder involves negative reviews."
   ]
  },
  {
   "cell_type": "markdown",
   "id": "a9acd845",
   "metadata": {},
   "source": [
    "### (b) Data Exploration and Pre-processing.\n",
    "### i. You can use binary encoding for the sentiments , i.e y = 1 for positive senti-ments and y = −1 for negative sentiments.\n",
    "### ii. The data are pretty clean. Remove the punctuation and numbers from the data.\n"
   ]
  },
  {
   "cell_type": "code",
   "execution_count": 2,
   "id": "7279a53e",
   "metadata": {},
   "outputs": [],
   "source": [
    "PATHPOS = '../Data/pos'\n",
    "PATHNEG= '../Data/neg'"
   ]
  },
  {
   "cell_type": "code",
   "execution_count": 3,
   "id": "656b49f6",
   "metadata": {},
   "outputs": [],
   "source": [
    "def preprocess_text(text):\n",
    "    text = re.sub(r'[^\\w\\s]', '', text)\n",
    "#     text = re.sub(r'[^a-zA-Z\\s]', '', text)\n",
    "    text = re.sub(r'\\d+', '', text)\n",
    "    return text"
   ]
  },
  {
   "cell_type": "code",
   "execution_count": 4,
   "id": "4ea63a78",
   "metadata": {},
   "outputs": [],
   "source": [
    "def read_data_range(folder_path, start_index, end_index):\n",
    "    data = []\n",
    "    labels = []\n",
    "    for i in range(start_index, end_index + 1):\n",
    "        filename = os.path.join(folder_path, f\"cv{i:03d}_*.txt\") \n",
    "        matching_files = glob.glob(filename)\n",
    "        if matching_files:\n",
    "            with open(matching_files[0], 'r') as file: \n",
    "                review = file.read()\n",
    "                review = preprocess_text(review)\n",
    "                data.append(review)\n",
    "                if os.path.basename(folder_path) == \"pos\":\n",
    "                    labels.append(1)\n",
    "                elif os.path.basename(folder_path) == \"neg\":\n",
    "                    labels.append(-1)\n",
    "    return data, labels"
   ]
  },
  {
   "cell_type": "markdown",
   "id": "a3b24f07",
   "metadata": {},
   "source": [
    "### iii. The name of each text file starts withcv number. Use text files 0-699 in eachclass for training and 700-999 for testing"
   ]
  },
  {
   "cell_type": "code",
   "execution_count": 5,
   "id": "b6bdf6cf",
   "metadata": {},
   "outputs": [],
   "source": [
    "train_pos_data, train_pos_labels = read_data_range(PATHPOS, 0, 699)\n",
    "train_neg_data, train_neg_labels = read_data_range(PATHNEG, 0, 699)\n",
    "test_pos_data, test_pos_labels = read_data_range(PATHPOS, 700, 999)\n",
    "test_neg_data, test_neg_labels = read_data_range(PATHNEG, 700, 999)\n",
    "\n",
    "# Combine train and test data\n",
    "train_data = train_pos_data + train_neg_data\n",
    "train_labels = train_pos_labels + train_neg_labels\n",
    "test_data = test_pos_data + test_neg_data\n",
    "test_labels = test_pos_labels + test_neg_labels"
   ]
  },
  {
   "cell_type": "code",
   "execution_count": 6,
   "id": "f7627437",
   "metadata": {},
   "outputs": [
    {
     "name": "stdout",
     "output_type": "stream",
     "text": [
      "films adapted from comic books have had plenty of success  whether theyre about superheroes  batman  superman  spawn   or geared toward kids  casper  or the arthouse crowd  ghost world   but theres never really been a comic book like from hell before  \n",
      "for starters  it was created by alan moore  and eddie campbell   who brought the medium to a whole new level in the mid s with a part series called the watchmen  \n",
      "to say moore and campbell thoroughly researched the subject of jack the ripper would be like saying michael jackson is starting to look a little odd  \n",
      "the book  or  graphic novel   if you will  is over  pages long and includes nearly  more that consist of nothing but footnotes  \n",
      "in other words  dont dismiss this film because of its source  \n",
      "if you can get past the whole comic book thing  you might find another stumbling block in from hells directors  albert and allen hughes  \n",
      "getting the hughes brothers to direct this seems almost as ludicrous as casting carrot top in  well  anything  but riddle me this  who better to direct a film thats set in the ghetto and features really violent street crime than the mad geniuses behind menace ii society  \n",
      "the ghetto in question is  of course  whitechapel in  londons east end  \n",
      "its a filthy  sooty place where the whores  called  unfortunates   are starting to get a little nervous about this mysterious psychopath who has been carving through their profession with surgical precision  \n",
      "when the first stiff turns up  copper peter godley  robbie coltrane  the world is not enough  calls in inspector frederick abberline  johnny depp  blow  to crack the case  \n",
      "abberline  a widower  has prophetic dreams he unsuccessfully tries to quell with copious amounts of absinthe and opium  \n",
      "upon arriving in whitechapel  he befriends an unfortunate named mary kelly  heather graham  say it isnt so  and proceeds to investigate the horribly gruesome crimes that even the police surgeon cant stomach  \n",
      "i dont think anyone needs to be briefed on jack the ripper  so i wont go into the particulars here  other than to say moore and campbell have a unique and interesting theory about both the identity of the killer and the reasons he chooses to slay  \n",
      "in the comic  they dont bother cloaking the identity of the ripper  but screenwriters terry hayes  vertical limit  and rafael yglesias  les mis  rables  do a good job of keeping him hidden from viewers until the very end  \n",
      "its funny to watch the locals blindly point the finger of blame at jews and indians because  after all  an englishman could never be capable of committing such ghastly acts  \n",
      "and from hells ending had me whistling the stonecutters song from the simpsons for days   who holds back the electric carwho made steve guttenberg a star     \n",
      "dont worry  itll all make sense when you see it  \n",
      "now onto from hells appearance  its certainly dark and bleak enough  and its surprising to see how much more it looks like a tim burton film than planet of the apes did  at times  it seems like sleepy hollow    \n",
      "the print i saw wasnt completely finished  both color and music had not been finalized  so no comments about marilyn manson   but cinematographer peter deming  dont say a word  ably captures the dreariness of victorianera london and helped make the flashy killing scenes remind me of the crazy flashbacks in twin peaks  even though the violence in the film pales in comparison to that in the blackandwhite comic  \n",
      "oscar winner martin childs  shakespeare in love  production design turns the original prague surroundings into one creepy place  \n",
      "even the acting in from hell is solid  with the dreamy depp turning in a typically strong performance and deftly handling a british accent  \n",
      "ians holm  joe goulds secret  and richardson   dalmatians  log in great supporting roles  but the big surprise here is graham  \n",
      "i cringed the first time she opened her mouth  imagining her attempt at an irish accent  but it actually wasnt half bad  \n",
      "the film  however  is all good  \n",
      "    r for strong violencegore  sexuality  language and drug content \n",
      "\n"
     ]
    }
   ],
   "source": [
    "print(train_data[0])"
   ]
  },
  {
   "cell_type": "markdown",
   "id": "bcf68728",
   "metadata": {},
   "source": [
    "### iv. Count the number of unique words in the whole dataset (train + test) and print it out."
   ]
  },
  {
   "cell_type": "code",
   "execution_count": 7,
   "id": "b6037443",
   "metadata": {},
   "outputs": [
    {
     "name": "stdout",
     "output_type": "stream",
     "text": [
      "Number of unique words in the whole dataset: 46737\n"
     ]
    }
   ],
   "source": [
    "all_data = train_data + test_data\n",
    "\n",
    "tokenizer = Tokenizer(num_words=5000)\n",
    "tokenizer.fit_on_texts(all_data)\n",
    "num_unique_words = len(tokenizer.word_index)\n",
    "\n",
    "print(\"Number of unique words in the whole dataset:\", num_unique_words)"
   ]
  },
  {
   "cell_type": "markdown",
   "id": "b1e15084",
   "metadata": {},
   "source": [
    "### v. Calculate the average review length and the standard deviation of review lengths. Report the results"
   ]
  },
  {
   "cell_type": "code",
   "execution_count": 8,
   "id": "fd074f36",
   "metadata": {},
   "outputs": [
    {
     "name": "stdout",
     "output_type": "stream",
     "text": [
      "2000\n",
      "Average review length: 644.3575\n",
      "Standard deviation of review lengths: 284.98012333099655\n"
     ]
    }
   ],
   "source": [
    "review_lengths = [len(review.split()) for review in all_data]\n",
    "print(len(review_lengths))\n",
    "\n",
    "avg_review_length = sum(review_lengths) / len(review_lengths)\n",
    "std_dev_review_length = np.std(review_lengths)\n",
    "\n",
    "print(\"Average review length:\", avg_review_length)\n",
    "print(\"Standard deviation of review lengths:\", std_dev_review_length)"
   ]
  },
  {
   "cell_type": "markdown",
   "id": "92cd6a52",
   "metadata": {},
   "source": [
    "### vi. Plot the histogram of review lengths."
   ]
  },
  {
   "cell_type": "code",
   "execution_count": 9,
   "id": "4c133071",
   "metadata": {},
   "outputs": [
    {
     "data": {
      "image/png": "[encoded data removed]",
      "text/plain": [
       "<Figure size 640x480 with 1 Axes>"
      ]
     },
     "metadata": {},
     "output_type": "display_data"
    }
   ],
   "source": [
    "plt.hist(review_lengths, bins=50, color='blue', alpha=0.7)\n",
    "plt.xlabel('Review Length')\n",
    "plt.ylabel('Frequency')\n",
    "plt.title('Histogram of Review Lengths')\n",
    "plt.grid(True)\n",
    "plt.show()"
   ]
  },
  {
   "cell_type": "markdown",
   "id": "0aef0aca",
   "metadata": {},
   "source": [
    "### vii. To represent each text (= data point), there are many ways. In NLP/Deep Learning terminology, this task is called tokenization. It is common to rep-resent text using popularity/ rank of words in text. The most common word in the text will be represented as 1, the second most common word will be represented as 2, etc. Tokenize each text document using this method."
   ]
  },
  {
   "cell_type": "code",
   "execution_count": 10,
   "id": "96bb0e1e",
   "metadata": {},
   "outputs": [],
   "source": [
    "tokenizer = Tokenizer(num_words=5000)\n",
    "tokenizer.fit_on_texts(all_data) \n",
    "x_train = tokenizer.texts_to_sequences(train_data)\n",
    "x_test = tokenizer.texts_to_sequences(test_data)"
   ]
  },
  {
   "cell_type": "code",
   "execution_count": 11,
   "id": "b19e3f4b",
   "metadata": {
    "scrolled": true
   },
   "outputs": [
    {
     "name": "stdout",
     "output_type": "stream",
     "text": [
      "\n",
      "Tokenized representation:\n",
      " [67, 2745, 29, 355, 1634, 32, 90, 1047, 4, 627, 628, 321, 40, 704, 4783, 1755, 47, 1328, 396, 4949, 47, 1, 1777, 1778, 148, 16, 140, 108, 89, 68, 2, 355, 405, 39, 29, 503, 142, 12, 9, 31, 853, 21, 1352, 1802, 3, 944, 1512, 28, 879, 1, 3951, 5, 2, 282, 113, 540, 7, 1, 126, 11, 2, 202, 262, 381, 1, 5, 180, 1802, 3, 1512, 1882, 1, 845, 4, 495, 1, 69, 22, 39, 820, 325, 1231, 6, 2142, 5, 175, 2, 94, 1232, 1, 405, 47, 1549, 523, 51, 35, 65, 6, 111, 4950, 196, 3, 1233, 440, 42, 8, 4, 181, 16, 7, 73, 637, 119, 14, 15, 84, 4, 23, 2110, 51, 35, 64, 74, 403, 1, 282, 355, 405, 179, 35, 228, 188, 124, 2808, 7, 29, 880, 2858, 3, 1029, 2592, 333, 1, 2592, 620, 5, 1967, 14, 136, 178, 10, 2970, 10, 1089, 466, 7, 83, 232, 16, 103, 14, 28, 153, 5, 1967, 2, 15, 185, 260, 7, 1, 4628, 3, 629, 89, 996, 1036, 690, 58, 1, 1609, 384, 1261, 1009, 911, 1, 4628, 7, 486, 6, 4, 218, 7, 3316, 133, 23, 2, 235, 96, 1, 381, 20, 2142, 5, 74, 2, 94, 3240, 40, 14, 1147, 28, 33, 68, 121, 45, 3557, 11, 43, 1, 80, 4951, 336, 46, 524, 3844, 1, 148, 6, 25, 154, 1329, 7, 3089, 1779, 2859, 2462, 5, 3241, 1, 318, 2, 33, 1061, 17, 364, 5, 11, 3558, 4, 3, 436, 7, 17, 4070, 24, 2143, 382, 1010, 1550, 3738, 2809, 180, 9, 162, 38, 3, 3952, 5, 2500, 1, 2860, 4629, 3739, 8, 56, 1, 555, 219, 4784, 18, 119, 172, 326, 612, 5, 22, 19, 495, 1, 38, 18, 501, 129, 55, 1, 125, 73, 58, 5, 180, 1802, 3, 1512, 32, 2, 1177, 3, 222, 2593, 40, 157, 1, 1675, 4, 1, 505, 3, 1, 1030, 17, 3242, 5, 7, 1, 355, 36, 119, 2549, 1, 1675, 4, 1, 16, 1913, 2340, 3, 4197, 76, 2, 61, 254, 4, 1529, 54, 1711, 29, 732, 308, 1, 78, 133, 23, 176, 5, 237, 1, 212, 1, 4785, 4, 1530, 30, 4630, 3, 84, 81, 37, 24, 104, 108, 22, 1941, 4, 118, 1803, 3, 29, 314, 90, 103, 1, 1048, 29, 1, 12, 392, 28, 1582, 135, 1, 137, 903, 2, 209, 119, 3393, 4340, 37, 86, 253, 43, 35, 82, 9, 144, 1140, 29, 1090, 23, 377, 432, 3, 2501, 154, 3, 23, 1330, 5, 82, 93, 70, 42, 9, 299, 39, 2, 886, 2198, 15, 58, 565, 4, 1, 1531, 192, 30, 245, 9, 136, 39, 3026, 1883, 1, 4198, 18, 526, 457, 300, 3394, 157, 1551, 3, 285, 90, 25, 68, 38, 59, 2371, 40, 16, 1988, 524, 119, 180, 2, 638, 3161, 1, 4, 2111, 3, 2341, 86, 1, 3090, 982, 117, 3740, 103, 4, 1, 1583, 1914, 7, 2971, 56, 151, 1, 448, 7, 1, 15, 7, 1823, 5, 8, 7, 1, 355, 655, 1884, 837, 4488, 1885, 7, 127, 460, 1532, 336, 1, 203, 55, 26, 1443, 235, 56, 1, 206, 7, 29, 503, 6, 816, 11, 1, 2859, 1676, 7, 2, 4199, 509, 158, 3, 4631, 2, 960, 1397, 467, 789, 3, 4341, 7, 123, 490, 481, 16, 1, 145, 656, 125, 6, 2809, 18, 1, 80, 63, 53, 3027, 34, 1481, 34, 506, 30, 24, 2810, 1397, 16, 9, 174, 457, 342, 106, 1, 15, 143, 6, 37, 61, 887, 12, 509, 3395, 1108, 3, 923, 1712]\n"
     ]
    }
   ],
   "source": [
    "print(\"\\nTokenized representation:\\n\", x_train[0])"
   ]
  },
  {
   "cell_type": "markdown",
   "id": "11d2a789",
   "metadata": {},
   "source": [
    "### viii. Select a review length L that 70% of the reviews have a length below it. If you feel more adventurous, set the threshold to 90%."
   ]
  },
  {
   "cell_type": "code",
   "execution_count": 12,
   "id": "2760762b",
   "metadata": {},
   "outputs": [
    {
     "name": "stdout",
     "output_type": "stream",
     "text": [
      "651\n"
     ]
    }
   ],
   "source": [
    "review_length = [len(seq) for seq in x_train + x_test]\n",
    "L = int(np.percentile(review_length, 70))\n",
    "print(L)\n"
   ]
  },
  {
   "cell_type": "markdown",
   "id": "17159ec3",
   "metadata": {},
   "source": [
    "### ix. Truncate reviews longer than L words and zero-pad reviews shorter than L so that all texts (= data points) are of length L.\n"
   ]
  },
  {
   "cell_type": "code",
   "execution_count": 13,
   "id": "2dd22eb6",
   "metadata": {},
   "outputs": [],
   "source": [
    "x_train = pad_sequences(x_train, maxlen=L)\n",
    "x_test = pad_sequences(x_test, maxlen=L)\n",
    "\n"
   ]
  },
  {
   "cell_type": "code",
   "execution_count": 14,
   "id": "4fbb7c53",
   "metadata": {},
   "outputs": [
    {
     "name": "stdout",
     "output_type": "stream",
     "text": [
      "\n",
      "Padded representation:\n",
      " [   0    0    0    0    0    0    0    0    0    0    0    0    0    0\n",
      "    0    0    0    0    0    0    0    0    0    0    0    0    0    0\n",
      "    0    0    0    0    0    0    0    0    0    0    0    0    0    0\n",
      "    0    0    0    0    0    0    0    0    0    0    0    0    0    0\n",
      "    0    0    0    0    0    0    0   67 2745   29  355 1634   32   90\n",
      " 1047    4  627  628  321   40  704 4783 1755   47 1328  396 4949   47\n",
      "    1 1777 1778  148   16  140  108   89   68    2  355  405   39   29\n",
      "  503  142   12    9   31  853   21 1352 1802    3  944 1512   28  879\n",
      "    1 3951    5    2  282  113  540    7    1  126   11    2  202  262\n",
      "  381    1    5  180 1802    3 1512 1882    1  845    4  495    1   69\n",
      "   22   39  820  325 1231    6 2142    5  175    2   94 1232    1  405\n",
      "   47 1549  523   51   35   65    6  111 4950  196    3 1233  440   42\n",
      "    8    4  181   16    7   73  637  119   14   15   84    4   23 2110\n",
      "   51   35   64   74  403    1  282  355  405  179   35  228  188  124\n",
      " 2808    7   29  880 2858    3 1029 2592  333    1 2592  620    5 1967\n",
      "   14  136  178   10 2970   10 1089  466    7   83  232   16  103   14\n",
      "   28  153    5 1967    2   15  185  260    7    1 4628    3  629   89\n",
      "  996 1036  690   58    1 1609  384 1261 1009  911    1 4628    7  486\n",
      "    6    4  218    7 3316  133   23    2  235   96    1  381   20 2142\n",
      "    5   74    2   94 3240   40   14 1147   28   33   68  121   45 3557\n",
      "   11   43    1   80 4951  336   46  524 3844    1  148    6   25  154\n",
      " 1329    7 3089 1779 2859 2462    5 3241    1  318    2   33 1061   17\n",
      "  364    5   11 3558    4    3  436    7   17 4070   24 2143  382 1010\n",
      " 1550 3738 2809  180    9  162   38    3 3952    5 2500    1 2860 4629\n",
      " 3739    8   56    1  555  219 4784   18  119  172  326  612    5   22\n",
      "   19  495    1   38   18  501  129   55    1  125   73   58    5  180\n",
      " 1802    3 1512   32    2 1177    3  222 2593   40  157    1 1675    4\n",
      "    1  505    3    1 1030   17 3242    5    7    1  355   36  119 2549\n",
      "    1 1675    4    1   16 1913 2340    3 4197   76    2   61  254    4\n",
      " 1529   54 1711   29  732  308    1   78  133   23  176    5  237    1\n",
      "  212    1 4785    4 1530   30 4630    3   84   81   37   24  104  108\n",
      "   22 1941    4  118 1803    3   29  314   90  103    1 1048   29    1\n",
      "   12  392   28 1582  135    1  137  903    2  209  119 3393 4340   37\n",
      "   86  253   43   35   82    9  144 1140   29 1090   23  377  432    3\n",
      " 2501  154    3   23 1330    5   82   93   70   42    9  299   39    2\n",
      "  886 2198   15   58  565    4    1 1531  192   30  245    9  136   39\n",
      " 3026 1883    1 4198   18  526  457  300 3394  157 1551    3  285   90\n",
      "   25   68   38   59 2371   40   16 1988  524  119  180    2  638 3161\n",
      "    1    4 2111    3 2341   86    1 3090  982  117 3740  103    4    1\n",
      " 1583 1914    7 2971   56  151    1  448    7    1   15    7 1823    5\n",
      "    8    7    1  355  655 1884  837 4488 1885    7  127  460 1532  336\n",
      "    1  203   55   26 1443  235   56    1  206    7   29  503    6  816\n",
      "   11    1 2859 1676    7    2 4199  509  158    3 4631    2  960 1397\n",
      "  467  789    3 4341    7  123  490  481   16    1  145  656  125    6\n",
      " 2809   18    1   80   63   53 3027   34 1481   34  506   30   24 2810\n",
      " 1397   16    9  174  457  342  106    1   15  143    6   37   61  887\n",
      "   12  509 3395 1108    3  923 1712]\n"
     ]
    }
   ],
   "source": [
    "print(\"\\nPadded representation:\\n\", x_train[0])"
   ]
  },
  {
   "cell_type": "markdown",
   "id": "b15e5a90",
   "metadata": {},
   "source": [
    "## (c) Word Embeddings"
   ]
  },
  {
   "cell_type": "markdown",
   "id": "8b083cd9",
   "metadata": {},
   "source": [
    "### i.\n",
    "One can use tokenized text as inputs to a deep neural network. However, a recent breakthrough in NLP suggests that more sophisticated representations of text yield better results. These sophisticated representations are called word embeddings. “Word embedding is a term used for representation of words for text analysis, typically in the form of a real-valued vector that encodes the meaning of the word such that the words that are closer in the vector \n",
    "space are expected to be similar in meaning.” Most deep learning modules(including Keras) provide a convenient way to convert positive integer representations of words into a word embedding by an “Embedding layer.” The layer accepts arguments that define the mapping of words into embeddings, including the maximum number of expected words also called the vocabulary size (e.g. the largest integer value). The layer also allows you to specify the dimension for each word vector, called the “output dimension.” We would like to use a word embedding layer for this project. Assume that we are inter- ested in the top 5,000 words. This means that in each integer sequence that represents each document, we set to zero those integers that represent words that are not among the top 5,000 words in the document. If you feel more adventurous, use all the words that appear in this corpus. Choose the length of the embedding vector for each word to be 32. Hence, each document is represented as a 32×L matrix."
   ]
  },
  {
   "cell_type": "code",
   "execution_count": 15,
   "id": "a3e06f46",
   "metadata": {},
   "outputs": [],
   "source": [
    "vocab_size = 5000 \n",
    "embedding_dim = 32\n",
    "\n",
    "model = Sequential()"
   ]
  },
  {
   "cell_type": "code",
   "execution_count": 16,
   "id": "d8969f48",
   "metadata": {},
   "outputs": [],
   "source": [
    "model.add(Embedding(vocab_size, embedding_dim))"
   ]
  },
  {
   "cell_type": "code",
   "execution_count": 17,
   "id": "06c1e997",
   "metadata": {},
   "outputs": [
    {
     "data": {
      "text/html": [
       "<pre style=\"white-space:pre;overflow-x:auto;line-height:normal;font-family:Menlo,'DejaVu Sans Mono',consolas,'Courier New',monospace\"><span style=\"font-weight: bold\">Model: \"sequential\"</span>\n",
       "</pre>\n"
      ],
      "text/plain": [
       "\u001b[1mModel: \"sequential\"\u001b[0m\n"
      ]
     },
     "metadata": {},
     "output_type": "display_data"
    },
    {
     "data": {
      "text/html": [
       "<pre style=\"white-space:pre;overflow-x:auto;line-height:normal;font-family:Menlo,'DejaVu Sans Mono',consolas,'Courier New',monospace\">┏━━━━━━━━━━━━━━━━━━━━━━━━━━━━━━━━━┳━━━━━━━━━━━━━━━━━━━━━━━━┳━━━━━━━━━━━━━━━┓\n",
       "┃<span style=\"font-weight: bold\"> Layer (type)                    </span>┃<span style=\"font-weight: bold\"> Output Shape           </span>┃<span style=\"font-weight: bold\">       Param # </span>┃\n",
       "┡━━━━━━━━━━━━━━━━━━━━━━━━━━━━━━━━━╇━━━━━━━━━━━━━━━━━━━━━━━━╇━━━━━━━━━━━━━━━┩\n",
       "│ embedding (<span style=\"color: #0087ff; text-decoration-color: #0087ff\">Embedding</span>)           │ (<span style=\"color: #00d7ff; text-decoration-color: #00d7ff\">None</span>, <span style=\"color: #00af00; text-decoration-color: #00af00\">651</span>, <span style=\"color: #00af00; text-decoration-color: #00af00\">32</span>)        │       <span style=\"color: #00af00; text-decoration-color: #00af00\">160,000</span> │\n",
       "└─────────────────────────────────┴────────────────────────┴───────────────┘\n",
       "</pre>\n"
      ],
      "text/plain": [
       "┏━━━━━━━━━━━━━━━━━━━━━━━━━━━━━━━━━┳━━━━━━━━━━━━━━━━━━━━━━━━┳━━━━━━━━━━━━━━━┓\n",
       "┃\u001b[1m \u001b[0m\u001b[1mLayer (type)                   \u001b[0m\u001b[1m \u001b[0m┃\u001b[1m \u001b[0m\u001b[1mOutput Shape          \u001b[0m\u001b[1m \u001b[0m┃\u001b[1m \u001b[0m\u001b[1m      Param #\u001b[0m\u001b[1m \u001b[0m┃\n",
       "┡━━━━━━━━━━━━━━━━━━━━━━━━━━━━━━━━━╇━━━━━━━━━━━━━━━━━━━━━━━━╇━━━━━━━━━━━━━━━┩\n",
       "│ embedding (\u001b[38;5;33mEmbedding\u001b[0m)           │ (\u001b[38;5;45mNone\u001b[0m, \u001b[38;5;34m651\u001b[0m, \u001b[38;5;34m32\u001b[0m)        │       \u001b[38;5;34m160,000\u001b[0m │\n",
       "└─────────────────────────────────┴────────────────────────┴───────────────┘\n"
      ]
     },
     "metadata": {},
     "output_type": "display_data"
    },
    {
     "data": {
      "text/html": [
       "<pre style=\"white-space:pre;overflow-x:auto;line-height:normal;font-family:Menlo,'DejaVu Sans Mono',consolas,'Courier New',monospace\"><span style=\"font-weight: bold\"> Total params: </span><span style=\"color: #00af00; text-decoration-color: #00af00\">160,000</span> (625.00 KB)\n",
       "</pre>\n"
      ],
      "text/plain": [
       "\u001b[1m Total params: \u001b[0m\u001b[38;5;34m160,000\u001b[0m (625.00 KB)\n"
      ]
     },
     "metadata": {},
     "output_type": "display_data"
    },
    {
     "data": {
      "text/html": [
       "<pre style=\"white-space:pre;overflow-x:auto;line-height:normal;font-family:Menlo,'DejaVu Sans Mono',consolas,'Courier New',monospace\"><span style=\"font-weight: bold\"> Trainable params: </span><span style=\"color: #00af00; text-decoration-color: #00af00\">160,000</span> (625.00 KB)\n",
       "</pre>\n"
      ],
      "text/plain": [
       "\u001b[1m Trainable params: \u001b[0m\u001b[38;5;34m160,000\u001b[0m (625.00 KB)\n"
      ]
     },
     "metadata": {},
     "output_type": "display_data"
    },
    {
     "data": {
      "text/html": [
       "<pre style=\"white-space:pre;overflow-x:auto;line-height:normal;font-family:Menlo,'DejaVu Sans Mono',consolas,'Courier New',monospace\"><span style=\"font-weight: bold\"> Non-trainable params: </span><span style=\"color: #00af00; text-decoration-color: #00af00\">0</span> (0.00 B)\n",
       "</pre>\n"
      ],
      "text/plain": [
       "\u001b[1m Non-trainable params: \u001b[0m\u001b[38;5;34m0\u001b[0m (0.00 B)\n"
      ]
     },
     "metadata": {},
     "output_type": "display_data"
    },
    {
     "name": "stdout",
     "output_type": "stream",
     "text": [
      "None\n"
     ]
    }
   ],
   "source": [
    "model.compile(optimizer='adam', loss='binary_crossentropy')\n",
    "\n",
    "model.build(input_shape=(None, L))\n",
    "\n",
    "print(model.summary())"
   ]
  },
  {
   "cell_type": "markdown",
   "id": "9d80d6c9",
   "metadata": {},
   "source": [
    "### ii. Flatten the matrix of each document to a vector."
   ]
  },
  {
   "cell_type": "code",
   "execution_count": 18,
   "id": "9fda1053",
   "metadata": {},
   "outputs": [
    {
     "name": "stderr",
     "output_type": "stream",
     "text": [
      "/Users/mahemareddy/anaconda3/lib/python3.11/site-packages/keras/src/layers/core/embedding.py:90: UserWarning: Argument `input_length` is deprecated. Just remove it.\n",
      "  warnings.warn(\n"
     ]
    },
    {
     "data": {
      "text/html": [
       "<pre style=\"white-space:pre;overflow-x:auto;line-height:normal;font-family:Menlo,'DejaVu Sans Mono',consolas,'Courier New',monospace\"><span style=\"font-weight: bold\">Model: \"sequential_1\"</span>\n",
       "</pre>\n"
      ],
      "text/plain": [
       "\u001b[1mModel: \"sequential_1\"\u001b[0m\n"
      ]
     },
     "metadata": {},
     "output_type": "display_data"
    },
    {
     "data": {
      "text/html": [
       "<pre style=\"white-space:pre;overflow-x:auto;line-height:normal;font-family:Menlo,'DejaVu Sans Mono',consolas,'Courier New',monospace\">┏━━━━━━━━━━━━━━━━━━━━━━━━━━━━━━━━━┳━━━━━━━━━━━━━━━━━━━━━━━━┳━━━━━━━━━━━━━━━┓\n",
       "┃<span style=\"font-weight: bold\"> Layer (type)                    </span>┃<span style=\"font-weight: bold\"> Output Shape           </span>┃<span style=\"font-weight: bold\">       Param # </span>┃\n",
       "┡━━━━━━━━━━━━━━━━━━━━━━━━━━━━━━━━━╇━━━━━━━━━━━━━━━━━━━━━━━━╇━━━━━━━━━━━━━━━┩\n",
       "│ embedding_1 (<span style=\"color: #0087ff; text-decoration-color: #0087ff\">Embedding</span>)         │ (<span style=\"color: #00d7ff; text-decoration-color: #00d7ff\">None</span>, <span style=\"color: #00af00; text-decoration-color: #00af00\">651</span>, <span style=\"color: #00af00; text-decoration-color: #00af00\">32</span>)        │       <span style=\"color: #00af00; text-decoration-color: #00af00\">160,000</span> │\n",
       "├─────────────────────────────────┼────────────────────────┼───────────────┤\n",
       "│ flatten (<span style=\"color: #0087ff; text-decoration-color: #0087ff\">Flatten</span>)               │ (<span style=\"color: #00d7ff; text-decoration-color: #00d7ff\">None</span>, <span style=\"color: #00af00; text-decoration-color: #00af00\">20832</span>)          │             <span style=\"color: #00af00; text-decoration-color: #00af00\">0</span> │\n",
       "└─────────────────────────────────┴────────────────────────┴───────────────┘\n",
       "</pre>\n"
      ],
      "text/plain": [
       "┏━━━━━━━━━━━━━━━━━━━━━━━━━━━━━━━━━┳━━━━━━━━━━━━━━━━━━━━━━━━┳━━━━━━━━━━━━━━━┓\n",
       "┃\u001b[1m \u001b[0m\u001b[1mLayer (type)                   \u001b[0m\u001b[1m \u001b[0m┃\u001b[1m \u001b[0m\u001b[1mOutput Shape          \u001b[0m\u001b[1m \u001b[0m┃\u001b[1m \u001b[0m\u001b[1m      Param #\u001b[0m\u001b[1m \u001b[0m┃\n",
       "┡━━━━━━━━━━━━━━━━━━━━━━━━━━━━━━━━━╇━━━━━━━━━━━━━━━━━━━━━━━━╇━━━━━━━━━━━━━━━┩\n",
       "│ embedding_1 (\u001b[38;5;33mEmbedding\u001b[0m)         │ (\u001b[38;5;45mNone\u001b[0m, \u001b[38;5;34m651\u001b[0m, \u001b[38;5;34m32\u001b[0m)        │       \u001b[38;5;34m160,000\u001b[0m │\n",
       "├─────────────────────────────────┼────────────────────────┼───────────────┤\n",
       "│ flatten (\u001b[38;5;33mFlatten\u001b[0m)               │ (\u001b[38;5;45mNone\u001b[0m, \u001b[38;5;34m20832\u001b[0m)          │             \u001b[38;5;34m0\u001b[0m │\n",
       "└─────────────────────────────────┴────────────────────────┴───────────────┘\n"
      ]
     },
     "metadata": {},
     "output_type": "display_data"
    },
    {
     "data": {
      "text/html": [
       "<pre style=\"white-space:pre;overflow-x:auto;line-height:normal;font-family:Menlo,'DejaVu Sans Mono',consolas,'Courier New',monospace\"><span style=\"font-weight: bold\"> Total params: </span><span style=\"color: #00af00; text-decoration-color: #00af00\">160,000</span> (625.00 KB)\n",
       "</pre>\n"
      ],
      "text/plain": [
       "\u001b[1m Total params: \u001b[0m\u001b[38;5;34m160,000\u001b[0m (625.00 KB)\n"
      ]
     },
     "metadata": {},
     "output_type": "display_data"
    },
    {
     "data": {
      "text/html": [
       "<pre style=\"white-space:pre;overflow-x:auto;line-height:normal;font-family:Menlo,'DejaVu Sans Mono',consolas,'Courier New',monospace\"><span style=\"font-weight: bold\"> Trainable params: </span><span style=\"color: #00af00; text-decoration-color: #00af00\">160,000</span> (625.00 KB)\n",
       "</pre>\n"
      ],
      "text/plain": [
       "\u001b[1m Trainable params: \u001b[0m\u001b[38;5;34m160,000\u001b[0m (625.00 KB)\n"
      ]
     },
     "metadata": {},
     "output_type": "display_data"
    },
    {
     "data": {
      "text/html": [
       "<pre style=\"white-space:pre;overflow-x:auto;line-height:normal;font-family:Menlo,'DejaVu Sans Mono',consolas,'Courier New',monospace\"><span style=\"font-weight: bold\"> Non-trainable params: </span><span style=\"color: #00af00; text-decoration-color: #00af00\">0</span> (0.00 B)\n",
       "</pre>\n"
      ],
      "text/plain": [
       "\u001b[1m Non-trainable params: \u001b[0m\u001b[38;5;34m0\u001b[0m (0.00 B)\n"
      ]
     },
     "metadata": {},
     "output_type": "display_data"
    },
    {
     "name": "stdout",
     "output_type": "stream",
     "text": [
      "None\n"
     ]
    }
   ],
   "source": [
    "vocab_size = 5000 \n",
    "embedding_dim = 32\n",
    "max_review_length=737\n",
    "\n",
    "model = Sequential()\n",
    "\n",
    "model.add(Embedding(input_dim=vocab_size, output_dim=embedding_dim, input_length=L))\n",
    "\n",
    "model.add(Flatten())\n",
    "\n",
    "model.build(input_shape=(None, L))\n",
    "\n",
    "model.compile(optimizer='adam', loss='binary_crossentropy', metrics=['accuracy'])\n",
    "\n",
    "print(model.summary())"
   ]
  },
  {
   "cell_type": "code",
   "execution_count": 19,
   "id": "13ea7d31",
   "metadata": {},
   "outputs": [],
   "source": [
    "train_labels = np.array(train_labels)\n",
    "test_labels = np.array(test_labels)"
   ]
  },
  {
   "cell_type": "code",
   "execution_count": 20,
   "id": "310bd795",
   "metadata": {},
   "outputs": [
    {
     "name": "stdout",
     "output_type": "stream",
     "text": [
      "Shape of x_train: (1400, 651)\n",
      "Shape of x_test: (600, 651)\n",
      "Shape of train_labels: (1400,)\n",
      "Shape of test_labels: (600,)\n"
     ]
    }
   ],
   "source": [
    "print(\"Shape of x_train:\", x_train.shape)\n",
    "print(\"Shape of x_test:\", x_test.shape)\n",
    "print(\"Shape of train_labels:\", train_labels.shape)\n",
    "print(\"Shape of test_labels:\", test_labels.shape)"
   ]
  },
  {
   "cell_type": "markdown",
   "id": "a28658df",
   "metadata": {},
   "source": [
    "### Map labels from {-1, 1} to {0, 1}"
   ]
  },
  {
   "cell_type": "code",
   "execution_count": 21,
   "id": "6b0f3127",
   "metadata": {},
   "outputs": [],
   "source": [
    "train_labels_mapped = np.where(train_labels == -1, 0, 1)\n",
    "test_labels_mapped = np.where(test_labels == -1, 0, 1)"
   ]
  },
  {
   "cell_type": "markdown",
   "id": "b1328387",
   "metadata": {},
   "source": [
    "## (d) Multi-Layer Perceptron"
   ]
  },
  {
   "cell_type": "markdown",
   "id": "5406a67e",
   "metadata": {},
   "source": [
    "### i.\n",
    "Train a MLP with three (dense) hidden layers each of which has 50 ReLUs and one output layer with a single sigmoid neuron. Use a dropout rate of 20% for the first layer and 50% for the other layers. Use ADAM optimizer and binary cross entropy loss (which is equivalent to having a softmax in the output). To avoid overfitting, just set the number of epochs as 2. Use a batch size of 10."
   ]
  },
  {
   "cell_type": "code",
   "execution_count": 22,
   "id": "02d5c700",
   "metadata": {},
   "outputs": [],
   "source": [
    "def MLP_model(input_length):\n",
    "    model = Sequential([\n",
    "        Embedding(5000, 32, input_length=input_length),\n",
    "        Flatten(),\n",
    "        Dropout(0.2),\n",
    "        Dense(50, activation='relu'),\n",
    "        Dropout(0.5),\n",
    "        Dense(50, activation='relu'),\n",
    "        Dropout(0.5),\n",
    "        Dense(50, activation='relu'),\n",
    "        Dense(1, activation='sigmoid')  # Sigmoid for binary classification\n",
    "    ])\n",
    "    model.compile(optimizer='adam', loss='binary_crossentropy', metrics=['accuracy'])\n",
    "    return model\n"
   ]
  },
  {
   "cell_type": "code",
   "execution_count": 23,
   "id": "9f6ffbde",
   "metadata": {},
   "outputs": [
    {
     "name": "stdout",
     "output_type": "stream",
     "text": [
      "Epoch 1/2\n",
      "\u001b[1m140/140\u001b[0m \u001b[32m━━━━━━━━━━━━━━━━━━━━\u001b[0m\u001b[37m\u001b[0m \u001b[1m1s\u001b[0m 4ms/step - accuracy: 0.5412 - loss: 0.6951 - val_accuracy: 0.5067 - val_loss: 0.6891\n",
      "Epoch 2/2\n",
      "\u001b[1m140/140\u001b[0m \u001b[32m━━━━━━━━━━━━━━━━━━━━\u001b[0m\u001b[37m\u001b[0m \u001b[1m1s\u001b[0m 4ms/step - accuracy: 0.6031 - loss: 0.6545 - val_accuracy: 0.5967 - val_loss: 0.6657\n"
     ]
    }
   ],
   "source": [
    "model = MLP_model(L)\n",
    "\n",
    "history = model.fit(x_train, train_labels_mapped,\n",
    "                    epochs=2,\n",
    "                    batch_size=10,\n",
    "                    validation_data=(x_test, test_labels_mapped))\n"
   ]
  },
  {
   "cell_type": "code",
   "execution_count": 24,
   "id": "04e995c7",
   "metadata": {},
   "outputs": [
    {
     "data": {
      "text/html": [
       "<pre style=\"white-space:pre;overflow-x:auto;line-height:normal;font-family:Menlo,'DejaVu Sans Mono',consolas,'Courier New',monospace\"><span style=\"font-weight: bold\">Model: \"sequential_2\"</span>\n",
       "</pre>\n"
      ],
      "text/plain": [
       "\u001b[1mModel: \"sequential_2\"\u001b[0m\n"
      ]
     },
     "metadata": {},
     "output_type": "display_data"
    },
    {
     "data": {
      "text/html": [
       "<pre style=\"white-space:pre;overflow-x:auto;line-height:normal;font-family:Menlo,'DejaVu Sans Mono',consolas,'Courier New',monospace\">┏━━━━━━━━━━━━━━━━━━━━━━━━━━━━━━━━━┳━━━━━━━━━━━━━━━━━━━━━━━━┳━━━━━━━━━━━━━━━┓\n",
       "┃<span style=\"font-weight: bold\"> Layer (type)                    </span>┃<span style=\"font-weight: bold\"> Output Shape           </span>┃<span style=\"font-weight: bold\">       Param # </span>┃\n",
       "┡━━━━━━━━━━━━━━━━━━━━━━━━━━━━━━━━━╇━━━━━━━━━━━━━━━━━━━━━━━━╇━━━━━━━━━━━━━━━┩\n",
       "│ embedding_2 (<span style=\"color: #0087ff; text-decoration-color: #0087ff\">Embedding</span>)         │ (<span style=\"color: #00af00; text-decoration-color: #00af00\">10</span>, <span style=\"color: #00af00; text-decoration-color: #00af00\">651</span>, <span style=\"color: #00af00; text-decoration-color: #00af00\">32</span>)          │       <span style=\"color: #00af00; text-decoration-color: #00af00\">160,000</span> │\n",
       "├─────────────────────────────────┼────────────────────────┼───────────────┤\n",
       "│ flatten_1 (<span style=\"color: #0087ff; text-decoration-color: #0087ff\">Flatten</span>)             │ (<span style=\"color: #00af00; text-decoration-color: #00af00\">10</span>, <span style=\"color: #00af00; text-decoration-color: #00af00\">20832</span>)            │             <span style=\"color: #00af00; text-decoration-color: #00af00\">0</span> │\n",
       "├─────────────────────────────────┼────────────────────────┼───────────────┤\n",
       "│ dropout (<span style=\"color: #0087ff; text-decoration-color: #0087ff\">Dropout</span>)               │ (<span style=\"color: #00af00; text-decoration-color: #00af00\">10</span>, <span style=\"color: #00af00; text-decoration-color: #00af00\">20832</span>)            │             <span style=\"color: #00af00; text-decoration-color: #00af00\">0</span> │\n",
       "├─────────────────────────────────┼────────────────────────┼───────────────┤\n",
       "│ dense (<span style=\"color: #0087ff; text-decoration-color: #0087ff\">Dense</span>)                   │ (<span style=\"color: #00af00; text-decoration-color: #00af00\">10</span>, <span style=\"color: #00af00; text-decoration-color: #00af00\">50</span>)               │     <span style=\"color: #00af00; text-decoration-color: #00af00\">1,041,650</span> │\n",
       "├─────────────────────────────────┼────────────────────────┼───────────────┤\n",
       "│ dropout_1 (<span style=\"color: #0087ff; text-decoration-color: #0087ff\">Dropout</span>)             │ (<span style=\"color: #00af00; text-decoration-color: #00af00\">10</span>, <span style=\"color: #00af00; text-decoration-color: #00af00\">50</span>)               │             <span style=\"color: #00af00; text-decoration-color: #00af00\">0</span> │\n",
       "├─────────────────────────────────┼────────────────────────┼───────────────┤\n",
       "│ dense_1 (<span style=\"color: #0087ff; text-decoration-color: #0087ff\">Dense</span>)                 │ (<span style=\"color: #00af00; text-decoration-color: #00af00\">10</span>, <span style=\"color: #00af00; text-decoration-color: #00af00\">50</span>)               │         <span style=\"color: #00af00; text-decoration-color: #00af00\">2,550</span> │\n",
       "├─────────────────────────────────┼────────────────────────┼───────────────┤\n",
       "│ dropout_2 (<span style=\"color: #0087ff; text-decoration-color: #0087ff\">Dropout</span>)             │ (<span style=\"color: #00af00; text-decoration-color: #00af00\">10</span>, <span style=\"color: #00af00; text-decoration-color: #00af00\">50</span>)               │             <span style=\"color: #00af00; text-decoration-color: #00af00\">0</span> │\n",
       "├─────────────────────────────────┼────────────────────────┼───────────────┤\n",
       "│ dense_2 (<span style=\"color: #0087ff; text-decoration-color: #0087ff\">Dense</span>)                 │ (<span style=\"color: #00af00; text-decoration-color: #00af00\">10</span>, <span style=\"color: #00af00; text-decoration-color: #00af00\">50</span>)               │         <span style=\"color: #00af00; text-decoration-color: #00af00\">2,550</span> │\n",
       "├─────────────────────────────────┼────────────────────────┼───────────────┤\n",
       "│ dense_3 (<span style=\"color: #0087ff; text-decoration-color: #0087ff\">Dense</span>)                 │ (<span style=\"color: #00af00; text-decoration-color: #00af00\">10</span>, <span style=\"color: #00af00; text-decoration-color: #00af00\">1</span>)                │            <span style=\"color: #00af00; text-decoration-color: #00af00\">51</span> │\n",
       "└─────────────────────────────────┴────────────────────────┴───────────────┘\n",
       "</pre>\n"
      ],
      "text/plain": [
       "┏━━━━━━━━━━━━━━━━━━━━━━━━━━━━━━━━━┳━━━━━━━━━━━━━━━━━━━━━━━━┳━━━━━━━━━━━━━━━┓\n",
       "┃\u001b[1m \u001b[0m\u001b[1mLayer (type)                   \u001b[0m\u001b[1m \u001b[0m┃\u001b[1m \u001b[0m\u001b[1mOutput Shape          \u001b[0m\u001b[1m \u001b[0m┃\u001b[1m \u001b[0m\u001b[1m      Param #\u001b[0m\u001b[1m \u001b[0m┃\n",
       "┡━━━━━━━━━━━━━━━━━━━━━━━━━━━━━━━━━╇━━━━━━━━━━━━━━━━━━━━━━━━╇━━━━━━━━━━━━━━━┩\n",
       "│ embedding_2 (\u001b[38;5;33mEmbedding\u001b[0m)         │ (\u001b[38;5;34m10\u001b[0m, \u001b[38;5;34m651\u001b[0m, \u001b[38;5;34m32\u001b[0m)          │       \u001b[38;5;34m160,000\u001b[0m │\n",
       "├─────────────────────────────────┼────────────────────────┼───────────────┤\n",
       "│ flatten_1 (\u001b[38;5;33mFlatten\u001b[0m)             │ (\u001b[38;5;34m10\u001b[0m, \u001b[38;5;34m20832\u001b[0m)            │             \u001b[38;5;34m0\u001b[0m │\n",
       "├─────────────────────────────────┼────────────────────────┼───────────────┤\n",
       "│ dropout (\u001b[38;5;33mDropout\u001b[0m)               │ (\u001b[38;5;34m10\u001b[0m, \u001b[38;5;34m20832\u001b[0m)            │             \u001b[38;5;34m0\u001b[0m │\n",
       "├─────────────────────────────────┼────────────────────────┼───────────────┤\n",
       "│ dense (\u001b[38;5;33mDense\u001b[0m)                   │ (\u001b[38;5;34m10\u001b[0m, \u001b[38;5;34m50\u001b[0m)               │     \u001b[38;5;34m1,041,650\u001b[0m │\n",
       "├─────────────────────────────────┼────────────────────────┼───────────────┤\n",
       "│ dropout_1 (\u001b[38;5;33mDropout\u001b[0m)             │ (\u001b[38;5;34m10\u001b[0m, \u001b[38;5;34m50\u001b[0m)               │             \u001b[38;5;34m0\u001b[0m │\n",
       "├─────────────────────────────────┼────────────────────────┼───────────────┤\n",
       "│ dense_1 (\u001b[38;5;33mDense\u001b[0m)                 │ (\u001b[38;5;34m10\u001b[0m, \u001b[38;5;34m50\u001b[0m)               │         \u001b[38;5;34m2,550\u001b[0m │\n",
       "├─────────────────────────────────┼────────────────────────┼───────────────┤\n",
       "│ dropout_2 (\u001b[38;5;33mDropout\u001b[0m)             │ (\u001b[38;5;34m10\u001b[0m, \u001b[38;5;34m50\u001b[0m)               │             \u001b[38;5;34m0\u001b[0m │\n",
       "├─────────────────────────────────┼────────────────────────┼───────────────┤\n",
       "│ dense_2 (\u001b[38;5;33mDense\u001b[0m)                 │ (\u001b[38;5;34m10\u001b[0m, \u001b[38;5;34m50\u001b[0m)               │         \u001b[38;5;34m2,550\u001b[0m │\n",
       "├─────────────────────────────────┼────────────────────────┼───────────────┤\n",
       "│ dense_3 (\u001b[38;5;33mDense\u001b[0m)                 │ (\u001b[38;5;34m10\u001b[0m, \u001b[38;5;34m1\u001b[0m)                │            \u001b[38;5;34m51\u001b[0m │\n",
       "└─────────────────────────────────┴────────────────────────┴───────────────┘\n"
      ]
     },
     "metadata": {},
     "output_type": "display_data"
    },
    {
     "data": {
      "text/html": [
       "<pre style=\"white-space:pre;overflow-x:auto;line-height:normal;font-family:Menlo,'DejaVu Sans Mono',consolas,'Courier New',monospace\"><span style=\"font-weight: bold\"> Total params: </span><span style=\"color: #00af00; text-decoration-color: #00af00\">3,620,405</span> (13.81 MB)\n",
       "</pre>\n"
      ],
      "text/plain": [
       "\u001b[1m Total params: \u001b[0m\u001b[38;5;34m3,620,405\u001b[0m (13.81 MB)\n"
      ]
     },
     "metadata": {},
     "output_type": "display_data"
    },
    {
     "data": {
      "text/html": [
       "<pre style=\"white-space:pre;overflow-x:auto;line-height:normal;font-family:Menlo,'DejaVu Sans Mono',consolas,'Courier New',monospace\"><span style=\"font-weight: bold\"> Trainable params: </span><span style=\"color: #00af00; text-decoration-color: #00af00\">1,206,801</span> (4.60 MB)\n",
       "</pre>\n"
      ],
      "text/plain": [
       "\u001b[1m Trainable params: \u001b[0m\u001b[38;5;34m1,206,801\u001b[0m (4.60 MB)\n"
      ]
     },
     "metadata": {},
     "output_type": "display_data"
    },
    {
     "data": {
      "text/html": [
       "<pre style=\"white-space:pre;overflow-x:auto;line-height:normal;font-family:Menlo,'DejaVu Sans Mono',consolas,'Courier New',monospace\"><span style=\"font-weight: bold\"> Non-trainable params: </span><span style=\"color: #00af00; text-decoration-color: #00af00\">0</span> (0.00 B)\n",
       "</pre>\n"
      ],
      "text/plain": [
       "\u001b[1m Non-trainable params: \u001b[0m\u001b[38;5;34m0\u001b[0m (0.00 B)\n"
      ]
     },
     "metadata": {},
     "output_type": "display_data"
    },
    {
     "data": {
      "text/html": [
       "<pre style=\"white-space:pre;overflow-x:auto;line-height:normal;font-family:Menlo,'DejaVu Sans Mono',consolas,'Courier New',monospace\"><span style=\"font-weight: bold\"> Optimizer params: </span><span style=\"color: #00af00; text-decoration-color: #00af00\">2,413,604</span> (9.21 MB)\n",
       "</pre>\n"
      ],
      "text/plain": [
       "\u001b[1m Optimizer params: \u001b[0m\u001b[38;5;34m2,413,604\u001b[0m (9.21 MB)\n"
      ]
     },
     "metadata": {},
     "output_type": "display_data"
    }
   ],
   "source": [
    "model.summary()"
   ]
  },
  {
   "cell_type": "markdown",
   "id": "66bc06e3",
   "metadata": {},
   "source": [
    "### ii. Report the train and test accuracies of this model."
   ]
  },
  {
   "cell_type": "code",
   "execution_count": 25,
   "id": "527dc1b0",
   "metadata": {},
   "outputs": [
    {
     "name": "stdout",
     "output_type": "stream",
     "text": [
      "Train Accuracy: 84.50%\n",
      "Test Accuracy: 59.67%\n"
     ]
    }
   ],
   "source": [
    "train_loss, train_accuracy = model.evaluate(x_train, train_labels_mapped, verbose=0)\n",
    "print(f\"Train Accuracy: {train_accuracy * 100:.2f}%\")\n",
    "\n",
    "test_loss, test_accuracy = model.evaluate(x_test, test_labels_mapped, verbose=0)\n",
    "print(f\"Test Accuracy: {test_accuracy * 100:.2f}%\")"
   ]
  },
  {
   "cell_type": "markdown",
   "id": "910517ff",
   "metadata": {},
   "source": [
    "## (e) One-Dimensional Convolutional Neural Network:"
   ]
  },
  {
   "cell_type": "markdown",
   "id": "f027bec8",
   "metadata": {},
   "source": [
    "Although CNNs are mainly used for image data, they can also be applied to text\n",
    "data, as text also has adjacency information. Keras supports one-dimensional\n",
    "convolutions and pooling by the Conv1D and MaxPooling1D classes respectively.\n",
    "### i.\n",
    "After the embedding layer, insert a Conv1D layer. This convolutional layer\n",
    "has 32 feature maps , and each of the 32 kernels has size 3, i.e. reads embedded\n",
    "word representations 3 vector elements of the word embedding at a time. The\n",
    "convolutional layer is followed by a 1D max pooling layer with a length and\n",
    "stride of 2 that halves the size of the feature maps from the convolutional\n",
    "layer. The rest of the network is the same as the neural network above."
   ]
  },
  {
   "cell_type": "code",
   "execution_count": 26,
   "id": "5a6ba872",
   "metadata": {},
   "outputs": [],
   "source": [
    "def CNN_model(input_length):\n",
    "    model = Sequential([\n",
    "        Embedding(5000, 32, input_length=input_length),\n",
    "        Conv1D(32, 3, activation='relu'),\n",
    "        MaxPooling1D(pool_size=2),\n",
    "        Flatten(),\n",
    "        Dropout(0.2),\n",
    "        Dense(50, activation='relu'),\n",
    "        Dropout(0.5),\n",
    "        Dense(50, activation='relu'),\n",
    "        Dropout(0.5),\n",
    "        Dense(50, activation='relu'),\n",
    "        Dense(1, activation='sigmoid')  \n",
    "    ])\n",
    "    model.compile(optimizer='adam', loss='binary_crossentropy', metrics=['accuracy'])\n",
    "    return model\n"
   ]
  },
  {
   "cell_type": "code",
   "execution_count": 27,
   "id": "21d1ab38",
   "metadata": {},
   "outputs": [
    {
     "name": "stdout",
     "output_type": "stream",
     "text": [
      "Epoch 1/2\n",
      "\u001b[1m140/140\u001b[0m \u001b[32m━━━━━━━━━━━━━━━━━━━━\u001b[0m\u001b[37m\u001b[0m \u001b[1m1s\u001b[0m 4ms/step - accuracy: 0.5207 - loss: 0.6948 - val_accuracy: 0.5233 - val_loss: 0.6917\n",
      "Epoch 2/2\n",
      "\u001b[1m140/140\u001b[0m \u001b[32m━━━━━━━━━━━━━━━━━━━━\u001b[0m\u001b[37m\u001b[0m \u001b[1m1s\u001b[0m 4ms/step - accuracy: 0.5392 - loss: 0.6897 - val_accuracy: 0.5583 - val_loss: 0.6837\n"
     ]
    }
   ],
   "source": [
    "model = CNN_model(L)\n",
    "\n",
    "history = model.fit(x_train, train_labels_mapped,\n",
    "                    epochs=2,\n",
    "                    batch_size=10,\n",
    "                    validation_data=(x_test, test_labels_mapped))\n"
   ]
  },
  {
   "cell_type": "code",
   "execution_count": 28,
   "id": "b3e162e7",
   "metadata": {},
   "outputs": [
    {
     "data": {
      "text/html": [
       "<pre style=\"white-space:pre;overflow-x:auto;line-height:normal;font-family:Menlo,'DejaVu Sans Mono',consolas,'Courier New',monospace\"><span style=\"font-weight: bold\">Model: \"sequential_3\"</span>\n",
       "</pre>\n"
      ],
      "text/plain": [
       "\u001b[1mModel: \"sequential_3\"\u001b[0m\n"
      ]
     },
     "metadata": {},
     "output_type": "display_data"
    },
    {
     "data": {
      "text/html": [
       "<pre style=\"white-space:pre;overflow-x:auto;line-height:normal;font-family:Menlo,'DejaVu Sans Mono',consolas,'Courier New',monospace\">┏━━━━━━━━━━━━━━━━━━━━━━━━━━━━━━━━━┳━━━━━━━━━━━━━━━━━━━━━━━━┳━━━━━━━━━━━━━━━┓\n",
       "┃<span style=\"font-weight: bold\"> Layer (type)                    </span>┃<span style=\"font-weight: bold\"> Output Shape           </span>┃<span style=\"font-weight: bold\">       Param # </span>┃\n",
       "┡━━━━━━━━━━━━━━━━━━━━━━━━━━━━━━━━━╇━━━━━━━━━━━━━━━━━━━━━━━━╇━━━━━━━━━━━━━━━┩\n",
       "│ embedding_3 (<span style=\"color: #0087ff; text-decoration-color: #0087ff\">Embedding</span>)         │ (<span style=\"color: #00af00; text-decoration-color: #00af00\">10</span>, <span style=\"color: #00af00; text-decoration-color: #00af00\">651</span>, <span style=\"color: #00af00; text-decoration-color: #00af00\">32</span>)          │       <span style=\"color: #00af00; text-decoration-color: #00af00\">160,000</span> │\n",
       "├─────────────────────────────────┼────────────────────────┼───────────────┤\n",
       "│ conv1d (<span style=\"color: #0087ff; text-decoration-color: #0087ff\">Conv1D</span>)                 │ (<span style=\"color: #00af00; text-decoration-color: #00af00\">10</span>, <span style=\"color: #00af00; text-decoration-color: #00af00\">649</span>, <span style=\"color: #00af00; text-decoration-color: #00af00\">32</span>)          │         <span style=\"color: #00af00; text-decoration-color: #00af00\">3,104</span> │\n",
       "├─────────────────────────────────┼────────────────────────┼───────────────┤\n",
       "│ max_pooling1d (<span style=\"color: #0087ff; text-decoration-color: #0087ff\">MaxPooling1D</span>)    │ (<span style=\"color: #00af00; text-decoration-color: #00af00\">10</span>, <span style=\"color: #00af00; text-decoration-color: #00af00\">324</span>, <span style=\"color: #00af00; text-decoration-color: #00af00\">32</span>)          │             <span style=\"color: #00af00; text-decoration-color: #00af00\">0</span> │\n",
       "├─────────────────────────────────┼────────────────────────┼───────────────┤\n",
       "│ flatten_2 (<span style=\"color: #0087ff; text-decoration-color: #0087ff\">Flatten</span>)             │ (<span style=\"color: #00af00; text-decoration-color: #00af00\">10</span>, <span style=\"color: #00af00; text-decoration-color: #00af00\">10368</span>)            │             <span style=\"color: #00af00; text-decoration-color: #00af00\">0</span> │\n",
       "├─────────────────────────────────┼────────────────────────┼───────────────┤\n",
       "│ dropout_3 (<span style=\"color: #0087ff; text-decoration-color: #0087ff\">Dropout</span>)             │ (<span style=\"color: #00af00; text-decoration-color: #00af00\">10</span>, <span style=\"color: #00af00; text-decoration-color: #00af00\">10368</span>)            │             <span style=\"color: #00af00; text-decoration-color: #00af00\">0</span> │\n",
       "├─────────────────────────────────┼────────────────────────┼───────────────┤\n",
       "│ dense_4 (<span style=\"color: #0087ff; text-decoration-color: #0087ff\">Dense</span>)                 │ (<span style=\"color: #00af00; text-decoration-color: #00af00\">10</span>, <span style=\"color: #00af00; text-decoration-color: #00af00\">50</span>)               │       <span style=\"color: #00af00; text-decoration-color: #00af00\">518,450</span> │\n",
       "├─────────────────────────────────┼────────────────────────┼───────────────┤\n",
       "│ dropout_4 (<span style=\"color: #0087ff; text-decoration-color: #0087ff\">Dropout</span>)             │ (<span style=\"color: #00af00; text-decoration-color: #00af00\">10</span>, <span style=\"color: #00af00; text-decoration-color: #00af00\">50</span>)               │             <span style=\"color: #00af00; text-decoration-color: #00af00\">0</span> │\n",
       "├─────────────────────────────────┼────────────────────────┼───────────────┤\n",
       "│ dense_5 (<span style=\"color: #0087ff; text-decoration-color: #0087ff\">Dense</span>)                 │ (<span style=\"color: #00af00; text-decoration-color: #00af00\">10</span>, <span style=\"color: #00af00; text-decoration-color: #00af00\">50</span>)               │         <span style=\"color: #00af00; text-decoration-color: #00af00\">2,550</span> │\n",
       "├─────────────────────────────────┼────────────────────────┼───────────────┤\n",
       "│ dropout_5 (<span style=\"color: #0087ff; text-decoration-color: #0087ff\">Dropout</span>)             │ (<span style=\"color: #00af00; text-decoration-color: #00af00\">10</span>, <span style=\"color: #00af00; text-decoration-color: #00af00\">50</span>)               │             <span style=\"color: #00af00; text-decoration-color: #00af00\">0</span> │\n",
       "├─────────────────────────────────┼────────────────────────┼───────────────┤\n",
       "│ dense_6 (<span style=\"color: #0087ff; text-decoration-color: #0087ff\">Dense</span>)                 │ (<span style=\"color: #00af00; text-decoration-color: #00af00\">10</span>, <span style=\"color: #00af00; text-decoration-color: #00af00\">50</span>)               │         <span style=\"color: #00af00; text-decoration-color: #00af00\">2,550</span> │\n",
       "├─────────────────────────────────┼────────────────────────┼───────────────┤\n",
       "│ dense_7 (<span style=\"color: #0087ff; text-decoration-color: #0087ff\">Dense</span>)                 │ (<span style=\"color: #00af00; text-decoration-color: #00af00\">10</span>, <span style=\"color: #00af00; text-decoration-color: #00af00\">1</span>)                │            <span style=\"color: #00af00; text-decoration-color: #00af00\">51</span> │\n",
       "└─────────────────────────────────┴────────────────────────┴───────────────┘\n",
       "</pre>\n"
      ],
      "text/plain": [
       "┏━━━━━━━━━━━━━━━━━━━━━━━━━━━━━━━━━┳━━━━━━━━━━━━━━━━━━━━━━━━┳━━━━━━━━━━━━━━━┓\n",
       "┃\u001b[1m \u001b[0m\u001b[1mLayer (type)                   \u001b[0m\u001b[1m \u001b[0m┃\u001b[1m \u001b[0m\u001b[1mOutput Shape          \u001b[0m\u001b[1m \u001b[0m┃\u001b[1m \u001b[0m\u001b[1m      Param #\u001b[0m\u001b[1m \u001b[0m┃\n",
       "┡━━━━━━━━━━━━━━━━━━━━━━━━━━━━━━━━━╇━━━━━━━━━━━━━━━━━━━━━━━━╇━━━━━━━━━━━━━━━┩\n",
       "│ embedding_3 (\u001b[38;5;33mEmbedding\u001b[0m)         │ (\u001b[38;5;34m10\u001b[0m, \u001b[38;5;34m651\u001b[0m, \u001b[38;5;34m32\u001b[0m)          │       \u001b[38;5;34m160,000\u001b[0m │\n",
       "├─────────────────────────────────┼────────────────────────┼───────────────┤\n",
       "│ conv1d (\u001b[38;5;33mConv1D\u001b[0m)                 │ (\u001b[38;5;34m10\u001b[0m, \u001b[38;5;34m649\u001b[0m, \u001b[38;5;34m32\u001b[0m)          │         \u001b[38;5;34m3,104\u001b[0m │\n",
       "├─────────────────────────────────┼────────────────────────┼───────────────┤\n",
       "│ max_pooling1d (\u001b[38;5;33mMaxPooling1D\u001b[0m)    │ (\u001b[38;5;34m10\u001b[0m, \u001b[38;5;34m324\u001b[0m, \u001b[38;5;34m32\u001b[0m)          │             \u001b[38;5;34m0\u001b[0m │\n",
       "├─────────────────────────────────┼────────────────────────┼───────────────┤\n",
       "│ flatten_2 (\u001b[38;5;33mFlatten\u001b[0m)             │ (\u001b[38;5;34m10\u001b[0m, \u001b[38;5;34m10368\u001b[0m)            │             \u001b[38;5;34m0\u001b[0m │\n",
       "├─────────────────────────────────┼────────────────────────┼───────────────┤\n",
       "│ dropout_3 (\u001b[38;5;33mDropout\u001b[0m)             │ (\u001b[38;5;34m10\u001b[0m, \u001b[38;5;34m10368\u001b[0m)            │             \u001b[38;5;34m0\u001b[0m │\n",
       "├─────────────────────────────────┼────────────────────────┼───────────────┤\n",
       "│ dense_4 (\u001b[38;5;33mDense\u001b[0m)                 │ (\u001b[38;5;34m10\u001b[0m, \u001b[38;5;34m50\u001b[0m)               │       \u001b[38;5;34m518,450\u001b[0m │\n",
       "├─────────────────────────────────┼────────────────────────┼───────────────┤\n",
       "│ dropout_4 (\u001b[38;5;33mDropout\u001b[0m)             │ (\u001b[38;5;34m10\u001b[0m, \u001b[38;5;34m50\u001b[0m)               │             \u001b[38;5;34m0\u001b[0m │\n",
       "├─────────────────────────────────┼────────────────────────┼───────────────┤\n",
       "│ dense_5 (\u001b[38;5;33mDense\u001b[0m)                 │ (\u001b[38;5;34m10\u001b[0m, \u001b[38;5;34m50\u001b[0m)               │         \u001b[38;5;34m2,550\u001b[0m │\n",
       "├─────────────────────────────────┼────────────────────────┼───────────────┤\n",
       "│ dropout_5 (\u001b[38;5;33mDropout\u001b[0m)             │ (\u001b[38;5;34m10\u001b[0m, \u001b[38;5;34m50\u001b[0m)               │             \u001b[38;5;34m0\u001b[0m │\n",
       "├─────────────────────────────────┼────────────────────────┼───────────────┤\n",
       "│ dense_6 (\u001b[38;5;33mDense\u001b[0m)                 │ (\u001b[38;5;34m10\u001b[0m, \u001b[38;5;34m50\u001b[0m)               │         \u001b[38;5;34m2,550\u001b[0m │\n",
       "├─────────────────────────────────┼────────────────────────┼───────────────┤\n",
       "│ dense_7 (\u001b[38;5;33mDense\u001b[0m)                 │ (\u001b[38;5;34m10\u001b[0m, \u001b[38;5;34m1\u001b[0m)                │            \u001b[38;5;34m51\u001b[0m │\n",
       "└─────────────────────────────────┴────────────────────────┴───────────────┘\n"
      ]
     },
     "metadata": {},
     "output_type": "display_data"
    },
    {
     "data": {
      "text/html": [
       "<pre style=\"white-space:pre;overflow-x:auto;line-height:normal;font-family:Menlo,'DejaVu Sans Mono',consolas,'Courier New',monospace\"><span style=\"font-weight: bold\"> Total params: </span><span style=\"color: #00af00; text-decoration-color: #00af00\">2,060,117</span> (7.86 MB)\n",
       "</pre>\n"
      ],
      "text/plain": [
       "\u001b[1m Total params: \u001b[0m\u001b[38;5;34m2,060,117\u001b[0m (7.86 MB)\n"
      ]
     },
     "metadata": {},
     "output_type": "display_data"
    },
    {
     "data": {
      "text/html": [
       "<pre style=\"white-space:pre;overflow-x:auto;line-height:normal;font-family:Menlo,'DejaVu Sans Mono',consolas,'Courier New',monospace\"><span style=\"font-weight: bold\"> Trainable params: </span><span style=\"color: #00af00; text-decoration-color: #00af00\">686,705</span> (2.62 MB)\n",
       "</pre>\n"
      ],
      "text/plain": [
       "\u001b[1m Trainable params: \u001b[0m\u001b[38;5;34m686,705\u001b[0m (2.62 MB)\n"
      ]
     },
     "metadata": {},
     "output_type": "display_data"
    },
    {
     "data": {
      "text/html": [
       "<pre style=\"white-space:pre;overflow-x:auto;line-height:normal;font-family:Menlo,'DejaVu Sans Mono',consolas,'Courier New',monospace\"><span style=\"font-weight: bold\"> Non-trainable params: </span><span style=\"color: #00af00; text-decoration-color: #00af00\">0</span> (0.00 B)\n",
       "</pre>\n"
      ],
      "text/plain": [
       "\u001b[1m Non-trainable params: \u001b[0m\u001b[38;5;34m0\u001b[0m (0.00 B)\n"
      ]
     },
     "metadata": {},
     "output_type": "display_data"
    },
    {
     "data": {
      "text/html": [
       "<pre style=\"white-space:pre;overflow-x:auto;line-height:normal;font-family:Menlo,'DejaVu Sans Mono',consolas,'Courier New',monospace\"><span style=\"font-weight: bold\"> Optimizer params: </span><span style=\"color: #00af00; text-decoration-color: #00af00\">1,373,412</span> (5.24 MB)\n",
       "</pre>\n"
      ],
      "text/plain": [
       "\u001b[1m Optimizer params: \u001b[0m\u001b[38;5;34m1,373,412\u001b[0m (5.24 MB)\n"
      ]
     },
     "metadata": {},
     "output_type": "display_data"
    }
   ],
   "source": [
    "model.summary()"
   ]
  },
  {
   "cell_type": "markdown",
   "id": "8a8ff099",
   "metadata": {},
   "source": [
    "### ii. Report the train and test accuracies of this model."
   ]
  },
  {
   "cell_type": "code",
   "execution_count": 29,
   "id": "07911b2d",
   "metadata": {},
   "outputs": [
    {
     "name": "stdout",
     "output_type": "stream",
     "text": [
      "Train Accuracy: 66.43%\n",
      "Test Accuracy: 55.83%\n"
     ]
    }
   ],
   "source": [
    "train_loss, train_accuracy = model.evaluate(x_train, train_labels_mapped, verbose=0)\n",
    "print(f\"Train Accuracy: {train_accuracy * 100:.2f}%\")\n",
    "\n",
    "test_loss, test_accuracy = model.evaluate(x_test, test_labels_mapped, verbose=0)\n",
    "print(f\"Test Accuracy: {test_accuracy * 100:.2f}%\")"
   ]
  },
  {
   "cell_type": "markdown",
   "id": "1b4860e8",
   "metadata": {},
   "source": [
    "## (f) Long Short-Term Memory Recurrent Neural Network"
   ]
  },
  {
   "cell_type": "markdown",
   "id": "3fc91f44",
   "metadata": {},
   "source": [
    "### i.\n",
    "Each word is represented to LSTM as a vector of 32 elements and the LSTM\n",
    "is followed by a dense layer of 256 ReLUs. Use a dropout rate of 0.2 for both LSTM and the dense layer. Train the model using 10-50 epochs and batch size of 10."
   ]
  },
  {
   "cell_type": "code",
   "execution_count": 30,
   "id": "c88ebe77",
   "metadata": {},
   "outputs": [],
   "source": [
    "def LSTM_model(input_length):\n",
    "    model = Sequential([\n",
    "        Embedding(5000, 32, input_length=input_length),\n",
    "        LSTM(256, dropout=0.2),\n",
    "        Dense(256, activation='relu'),\n",
    "        Dropout(0.2),\n",
    "        Dense(1, activation='sigmoid')  \n",
    "    ])\n",
    "    model.compile(optimizer='adam', loss='binary_crossentropy', metrics=['accuracy'])\n",
    "    return model"
   ]
  },
  {
   "cell_type": "code",
   "execution_count": 31,
   "id": "0d49d455",
   "metadata": {},
   "outputs": [
    {
     "name": "stdout",
     "output_type": "stream",
     "text": [
      "Epoch 1/10\n",
      "\u001b[1m140/140\u001b[0m \u001b[32m━━━━━━━━━━━━━━━━━━━━\u001b[0m\u001b[37m\u001b[0m \u001b[1m50s\u001b[0m 354ms/step - accuracy: 0.5027 - loss: 0.6944 - val_accuracy: 0.5367 - val_loss: 0.6909\n",
      "Epoch 2/10\n",
      "\u001b[1m140/140\u001b[0m \u001b[32m━━━━━━━━━━━━━━━━━━━━\u001b[0m\u001b[37m\u001b[0m \u001b[1m50s\u001b[0m 360ms/step - accuracy: 0.6688 - loss: 0.6858 - val_accuracy: 0.5883 - val_loss: 0.6564\n",
      "Epoch 3/10\n",
      "\u001b[1m140/140\u001b[0m \u001b[32m━━━━━━━━━━━━━━━━━━━━\u001b[0m\u001b[37m\u001b[0m \u001b[1m50s\u001b[0m 356ms/step - accuracy: 0.8647 - loss: 0.3833 - val_accuracy: 0.6383 - val_loss: 0.7801\n",
      "Epoch 4/10\n",
      "\u001b[1m140/140\u001b[0m \u001b[32m━━━━━━━━━━━━━━━━━━━━\u001b[0m\u001b[37m\u001b[0m \u001b[1m51s\u001b[0m 363ms/step - accuracy: 0.9590 - loss: 0.1233 - val_accuracy: 0.6067 - val_loss: 0.9643\n",
      "Epoch 5/10\n",
      "\u001b[1m140/140\u001b[0m \u001b[32m━━━━━━━━━━━━━━━━━━━━\u001b[0m\u001b[37m\u001b[0m \u001b[1m51s\u001b[0m 365ms/step - accuracy: 0.9794 - loss: 0.0668 - val_accuracy: 0.6200 - val_loss: 1.5239\n",
      "Epoch 6/10\n",
      "\u001b[1m140/140\u001b[0m \u001b[32m━━━━━━━━━━━━━━━━━━━━\u001b[0m\u001b[37m\u001b[0m \u001b[1m51s\u001b[0m 365ms/step - accuracy: 0.9898 - loss: 0.0385 - val_accuracy: 0.6267 - val_loss: 1.3781\n",
      "Epoch 7/10\n",
      "\u001b[1m140/140\u001b[0m \u001b[32m━━━━━━━━━━━━━━━━━━━━\u001b[0m\u001b[37m\u001b[0m \u001b[1m51s\u001b[0m 363ms/step - accuracy: 0.9941 - loss: 0.0223 - val_accuracy: 0.6233 - val_loss: 1.7331\n",
      "Epoch 8/10\n",
      "\u001b[1m140/140\u001b[0m \u001b[32m━━━━━━━━━━━━━━━━━━━━\u001b[0m\u001b[37m\u001b[0m \u001b[1m51s\u001b[0m 367ms/step - accuracy: 0.9940 - loss: 0.0282 - val_accuracy: 0.6467 - val_loss: 1.5865\n",
      "Epoch 9/10\n",
      "\u001b[1m140/140\u001b[0m \u001b[32m━━━━━━━━━━━━━━━━━━━━\u001b[0m\u001b[37m\u001b[0m \u001b[1m51s\u001b[0m 364ms/step - accuracy: 0.9962 - loss: 0.0094 - val_accuracy: 0.6567 - val_loss: 1.6231\n",
      "Epoch 10/10\n",
      "\u001b[1m140/140\u001b[0m \u001b[32m━━━━━━━━━━━━━━━━━━━━\u001b[0m\u001b[37m\u001b[0m \u001b[1m51s\u001b[0m 366ms/step - accuracy: 0.9969 - loss: 0.0113 - val_accuracy: 0.6333 - val_loss: 1.5929\n"
     ]
    }
   ],
   "source": [
    "model = LSTM_model(L)\n",
    "\n",
    "history = model.fit(x_train, train_labels_mapped,\n",
    "                    epochs=10,\n",
    "                    batch_size=10,\n",
    "                    validation_data=(x_test, test_labels_mapped))\n"
   ]
  },
  {
   "cell_type": "markdown",
   "id": "b7ab3a83",
   "metadata": {},
   "source": [
    "### ii. Report the train and test accuracies of this model."
   ]
  },
  {
   "cell_type": "code",
   "execution_count": 32,
   "id": "fbed0928",
   "metadata": {},
   "outputs": [
    {
     "name": "stdout",
     "output_type": "stream",
     "text": [
      "Train Accuracy: 98.71%\n",
      "Test Accuracy: 63.33%\n"
     ]
    }
   ],
   "source": [
    "train_loss, train_accuracy = model.evaluate(x_train, train_labels_mapped, verbose=0)\n",
    "print(f\"Train Accuracy: {train_accuracy * 100:.2f}%\")\n",
    "\n",
    "test_loss, test_accuracy = model.evaluate(x_test, test_labels_mapped, verbose=0)\n",
    "print(f\"Test Accuracy: {test_accuracy * 100:.2f}%\")"
   ]
  },
  {
   "cell_type": "markdown",
   "id": "ed97fe55",
   "metadata": {},
   "source": [
    "References:\n",
    "- https://docs.python.org/3/library/os.path.html\n",
    "- https://neptune.ai/blog/tokenization-in-nlp\n",
    "- https://www.tensorflow.org/text/guide/word_embeddings\n",
    "- https://www.tensorflow.org/api_docs/python/tf/keras/layers/Embedding\n",
    "- https://www.tensorflow.org/api_docs/python/tf/keras/Model#fit\n",
    "- https://scikit-learn.org/stable/modules/neural_networks_supervised.html\n",
    "- https://www.tensorflow.org/tutorials/images/cnn\n",
    "- https://keras.io/api/layers/recurrent_layers/lstm/"
   ]
  },
  {
   "cell_type": "code",
   "execution_count": null,
   "id": "38730329",
   "metadata": {},
   "outputs": [],
   "source": []
  }
 ],
 "metadata": {
  "kernelspec": {
   "display_name": "Python 3 (ipykernel)",
   "language": "python",
   "name": "python3"
  },
  "language_info": {
   "codemirror_mode": {
    "name": "ipython",
    "version": 3
   },
   "file_extension": ".py",
   "mimetype": "text/x-python",
   "name": "python",
   "nbconvert_exporter": "python",
   "pygments_lexer": "ipython3",
   "version": "3.11.5"
  }
 },
 "nbformat": 4,
 "nbformat_minor": 5
}
